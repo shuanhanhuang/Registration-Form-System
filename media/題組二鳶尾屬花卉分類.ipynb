{
 "cells": [
  {
   "cell_type": "code",
   "execution_count": 1,
   "id": "20e80ed7",
   "metadata": {},
   "outputs": [
    {
     "name": "stdout",
     "output_type": "stream",
     "text": [
      "     petal length  sepal length            type\n",
      "0             1.4           5.1     Iris-setosa\n",
      "1             1.4           4.9     Iris-setosa\n",
      "2             1.3           4.7     Iris-setosa\n",
      "3             1.5           4.6     Iris-setosa\n",
      "4             1.4           5.0     Iris-setosa\n",
      "..            ...           ...             ...\n",
      "145           5.2           6.7  Iris-virginica\n",
      "146           5.0           6.3  Iris-virginica\n",
      "147           5.2           6.5  Iris-virginica\n",
      "148           5.4           6.2  Iris-virginica\n",
      "149           5.1           5.9  Iris-virginica\n",
      "\n",
      "[150 rows x 3 columns]\n"
     ]
    }
   ],
   "source": [
    "import pandas as pd\n",
    "\n",
    "df = pd.read_csv(\n",
    "    \"https://raw.githubusercontent.com/AINTUT/code_2022/main/datasets/iris.csv\",\n",
    ")\n",
    "\n",
    "print(df)"
   ]
  },
  {
   "cell_type": "code",
   "execution_count": 16,
   "id": "19838c42",
   "metadata": {},
   "outputs": [],
   "source": [
    "input_features = [\n",
    "    \"petal length\",\n",
    "    \"sepal length\",\n",
    "]\n",
    "# The feature for y.\n",
    "output_feature = \"type\"\n",
    "# The labels to be predicted.\n",
    "labels = [\n",
    "    \"Iris-setosa\",\n",
    "    \"Iris-versicolor\",\n",
    "    \"Iris-virginica\"\n",
    "]"
   ]
  },
  {
   "cell_type": "code",
   "execution_count": 17,
   "id": "0e5e9ab2",
   "metadata": {},
   "outputs": [
    {
     "name": "stdout",
     "output_type": "stream",
     "text": [
      "[[1.4 5.1]\n",
      " [1.4 4.9]\n",
      " [1.3 4.7]\n",
      " [1.5 4.6]\n",
      " [1.4 5. ]\n",
      " [1.7 5.4]\n",
      " [1.4 4.6]\n",
      " [1.5 5. ]\n",
      " [1.4 4.4]\n",
      " [1.5 4.9]\n",
      " [1.5 5.4]\n",
      " [1.6 4.8]\n",
      " [1.4 4.8]\n",
      " [1.1 4.3]\n",
      " [1.2 5.8]\n",
      " [1.5 5.7]\n",
      " [1.3 5.4]\n",
      " [1.4 5.1]\n",
      " [1.7 5.7]\n",
      " [1.5 5.1]\n",
      " [1.7 5.4]\n",
      " [1.5 5.1]\n",
      " [1.  4.6]\n",
      " [1.7 5.1]\n",
      " [1.9 4.8]\n",
      " [1.6 5. ]\n",
      " [1.6 5. ]\n",
      " [1.5 5.2]\n",
      " [1.4 5.2]\n",
      " [1.6 4.7]\n",
      " [1.6 4.8]\n",
      " [1.5 5.4]\n",
      " [1.5 5.2]\n",
      " [1.4 5.5]\n",
      " [1.5 4.9]\n",
      " [1.2 5. ]\n",
      " [1.3 5.5]\n",
      " [1.5 4.9]\n",
      " [1.3 4.4]\n",
      " [1.5 5.1]\n",
      " [1.3 5. ]\n",
      " [1.3 4.5]\n",
      " [1.3 4.4]\n",
      " [1.6 5. ]\n",
      " [1.9 5.1]\n",
      " [1.4 4.8]\n",
      " [1.6 5.1]\n",
      " [1.4 4.6]\n",
      " [1.5 5.3]\n",
      " [1.4 5. ]\n",
      " [4.7 7. ]\n",
      " [4.5 6.4]\n",
      " [4.9 6.9]\n",
      " [4.  5.5]\n",
      " [4.6 6.5]\n",
      " [4.5 5.7]\n",
      " [4.7 6.3]\n",
      " [3.3 4.9]\n",
      " [4.6 6.6]\n",
      " [3.9 5.2]\n",
      " [3.5 5. ]\n",
      " [4.2 5.9]\n",
      " [4.  6. ]\n",
      " [4.7 6.1]\n",
      " [3.6 5.6]\n",
      " [4.4 6.7]\n",
      " [4.5 5.6]\n",
      " [4.1 5.8]\n",
      " [4.5 6.2]\n",
      " [3.9 5.6]\n",
      " [4.8 5.9]\n",
      " [4.  6.1]\n",
      " [4.9 6.3]\n",
      " [4.7 6.1]\n",
      " [4.3 6.4]\n",
      " [4.4 6.6]\n",
      " [4.8 6.8]\n",
      " [5.  6.7]\n",
      " [4.5 6. ]\n",
      " [3.5 5.7]\n",
      " [3.8 5.5]\n",
      " [3.7 5.5]\n",
      " [3.9 5.8]\n",
      " [5.1 6. ]\n",
      " [4.5 5.4]\n",
      " [4.5 6. ]\n",
      " [4.7 6.7]\n",
      " [4.4 6.3]\n",
      " [4.1 5.6]\n",
      " [4.  5.5]\n",
      " [4.4 5.5]\n",
      " [4.6 6.1]\n",
      " [4.  5.8]\n",
      " [3.3 5. ]\n",
      " [4.2 5.6]\n",
      " [4.2 5.7]\n",
      " [4.2 5.7]\n",
      " [4.3 6.2]\n",
      " [3.  5.1]\n",
      " [4.1 5.7]\n",
      " [6.  6.3]\n",
      " [5.1 5.8]\n",
      " [5.9 7.1]\n",
      " [5.6 6.3]\n",
      " [5.8 6.5]\n",
      " [6.6 7.6]\n",
      " [4.5 4.9]\n",
      " [6.3 7.3]\n",
      " [5.8 6.7]\n",
      " [6.1 7.2]\n",
      " [5.1 6.5]\n",
      " [5.3 6.4]\n",
      " [5.5 6.8]\n",
      " [5.  5.7]\n",
      " [5.1 5.8]\n",
      " [5.3 6.4]\n",
      " [5.5 6.5]\n",
      " [6.7 7.7]\n",
      " [6.9 7.7]\n",
      " [5.  6. ]\n",
      " [5.7 6.9]\n",
      " [4.9 5.6]\n",
      " [6.7 7.7]\n",
      " [4.9 6.3]\n",
      " [5.7 6.7]\n",
      " [6.  7.2]\n",
      " [4.8 6.2]\n",
      " [4.9 6.1]\n",
      " [5.6 6.4]\n",
      " [5.8 7.2]\n",
      " [6.1 7.4]\n",
      " [6.4 7.9]\n",
      " [5.6 6.4]\n",
      " [5.1 6.3]\n",
      " [5.6 6.1]\n",
      " [6.1 7.7]\n",
      " [5.6 6.3]\n",
      " [5.5 6.4]\n",
      " [4.8 6. ]\n",
      " [5.4 6.9]\n",
      " [5.6 6.7]\n",
      " [5.1 6.9]\n",
      " [5.1 5.8]\n",
      " [5.9 6.8]\n",
      " [5.7 6.7]\n",
      " [5.2 6.7]\n",
      " [5.  6.3]\n",
      " [5.2 6.5]\n",
      " [5.4 6.2]\n",
      " [5.1 5.9]]\n"
     ]
    }
   ],
   "source": [
    "import numpy as np\n",
    "\n",
    "# Collect data values for input x.\n",
    "x_data = df[input_features].to_numpy()\n",
    "\n",
    "print(x_data)"
   ]
  },
  {
   "cell_type": "code",
   "execution_count": 18,
   "id": "1523bee7",
   "metadata": {},
   "outputs": [
    {
     "name": "stdout",
     "output_type": "stream",
     "text": [
      "0         Iris-setosa\n",
      "1         Iris-setosa\n",
      "2         Iris-setosa\n",
      "3         Iris-setosa\n",
      "4         Iris-setosa\n",
      "            ...      \n",
      "145    Iris-virginica\n",
      "146    Iris-virginica\n",
      "147    Iris-virginica\n",
      "148    Iris-virginica\n",
      "149    Iris-virginica\n",
      "Name: type, Length: 150, dtype: object\n",
      "[0 0 0 0 0 0 0 0 0 0 0 0 0 0 0 0 0 0 0 0 0 0 0 0 0 0 0 0 0 0 0 0 0 0 0 0 0\n",
      " 0 0 0 0 0 0 0 0 0 0 0 0 0 1 1 1 1 1 1 1 1 1 1 1 1 1 1 1 1 1 1 1 1 1 1 1 1\n",
      " 1 1 1 1 1 1 1 1 1 1 1 1 1 1 1 1 1 1 1 1 1 1 1 1 1 1 2 2 2 2 2 2 2 2 2 2 2\n",
      " 2 2 2 2 2 2 2 2 2 2 2 2 2 2 2 2 2 2 2 2 2 2 2 2 2 2 2 2 2 2 2 2 2 2 2 2 2\n",
      " 2 2]\n"
     ]
    }
   ],
   "source": [
    "y_data = df[output_feature]\n",
    "print(y_data)\n",
    "y_data = np.where(y_data == labels[0], 0, y_data)# np.where(condition, x, y) 满足条件(condition)，输出x，不满足输出y\n",
    "y_data = np.where(y_data == labels[1], 1, y_data)\n",
    "y_data = np.where(y_data == labels[2], 2, y_data)\n",
    "print(y_data)"
   ]
  },
  {
   "cell_type": "code",
   "execution_count": 19,
   "id": "34a7e733",
   "metadata": {},
   "outputs": [
    {
     "name": "stdout",
     "output_type": "stream",
     "text": [
      "[1 2 2 2 2 1 2 1 1 2 2 2 2 1 2 1 0 2 1 1 1 1 2 0 0 2 1 0 0 1 0 2 1 0 1 2 1\n",
      " 0 2 2 2 2 0 0 2 2 0 2 0 2 2 0 0 2 0 0 0 1 2 2 0 0 0 1 1 0 0 1 0 2 1 2 1 0\n",
      " 2 0 2 0 0 2 0 2 1 1 1 2 2 1 1 0 1 2 2 0 1 1 1 1 0 0 0 2 1 2 0]\n"
     ]
    }
   ],
   "source": [
    "from sklearn.model_selection import train_test_split\n",
    "\n",
    "# Split the data into training and testing data.\n",
    "x_train, x_test, y_train, y_test = train_test_split(\n",
    "    x_data, # 二維\n",
    "    y_data, # 一維\n",
    "    test_size=0.3,\n",
    "    random_state=0, # 控制每次的訓練和測試資料切的值是一樣的，如果將random_state這個參數拿掉，每次執行都會切出不同的訓練和測試資料\n",
    ")\n",
    "# print(x_train)\n",
    "print(y_train)\n",
    "# print(x_train.shape)\n",
    "# print(x_test.shape)\n",
    "# print(y_train.shape)\n",
    "# print(y_test.shape)"
   ]
  },
  {
   "cell_type": "code",
   "execution_count": 20,
   "id": "f0090f71",
   "metadata": {},
   "outputs": [
    {
     "name": "stdout",
     "output_type": "stream",
     "text": [
      "[[ 0.70793846 -0.10694994]\n",
      " [ 0.09545238  0.1222285 ]\n",
      " [-1.35224199 -0.45071761]\n",
      " [ 1.37610509  1.6118884 ]\n",
      " [-1.29656144 -1.02366372]\n",
      " [ 1.20906343  0.46599617]\n",
      " [-1.40792255 -1.02366372]\n",
      " [ 0.48521625  0.92435306]\n",
      " [ 0.5408968   1.03894229]\n",
      " [ 0.09545238  0.23681773]\n",
      " [ 0.98634122  0.23681773]\n",
      " [ 0.37385514  0.5805854 ]\n",
      " [ 0.48521625  0.23681773]\n",
      " [ 0.42953569  0.69517462]\n",
      " [ 0.48521625  0.23681773]\n",
      " [-1.29656144 -1.13825295]\n",
      " [ 0.37385514  0.1222285 ]\n",
      " [ 0.31817459 -0.45071761]\n",
      " [-1.35224199 -1.25284217]\n",
      " [-1.40792255 -0.56530683]\n",
      " [ 0.59657735 -0.33612839]\n",
      " [ 0.37385514 -0.33612839]\n",
      " [-1.07383923 -1.25284217]\n",
      " [-1.35224199 -1.71119906]\n",
      " [ 0.5408968   0.35140695]\n",
      " [-1.57496421 -1.48202061]\n",
      " [-1.07383923 -0.9090745 ]\n",
      " [ 0.26249403  0.35140695]\n",
      " [-0.29431149 -1.02366372]\n",
      " [-1.24088089 -1.02366372]\n",
      " [ 0.93066067  0.5805854 ]\n",
      " [ 0.37385514 -0.56530683]\n",
      " [-1.29656144 -0.79448528]\n",
      " [ 0.59657735  0.23681773]\n",
      " [ 0.98634122  0.5805854 ]\n",
      " [ 0.03977182 -0.79448528]\n",
      " [-1.18520034 -0.22153916]\n",
      " [ 0.70793846  0.1222285 ]\n",
      " [ 0.20681348  0.00763928]\n",
      " [ 0.09545238 -0.10694994]\n",
      " [ 0.93066067  1.03894229]\n",
      " [-1.40792255 -1.36743139]\n",
      " [ 0.70793846  1.15353151]\n",
      " [-1.24088089 -1.02366372]\n",
      " [-1.29656144 -0.56530683]]\n"
     ]
    }
   ],
   "source": [
    "from sklearn.preprocessing import StandardScaler\n",
    "\n",
    "# Apply feature scaling on input x.\n",
    "scaler = StandardScaler()\n",
    "scaler.fit(x_train)\n",
    "x_train_std = scaler.transform(x_train)\n",
    "\n",
    "x_test_std = scaler.transform(x_test)\n",
    "print(x_test_std)"
   ]
  },
  {
   "cell_type": "code",
   "execution_count": 21,
   "id": "e48c673c",
   "metadata": {},
   "outputs": [
    {
     "name": "stdout",
     "output_type": "stream",
     "text": [
      "[[-0.18295039 -1.02366372]\n",
      " [ 0.93066067  0.69517462]\n",
      " [ 1.04202177  0.92435306]\n",
      " [ 0.6522579   0.1222285 ]\n",
      " [ 1.09770233  0.92435306]\n",
      " [ 0.03977182 -0.33612839]\n",
      " [ 1.26474398  2.07024529]\n",
      " [ 0.48521625  0.46599617]\n",
      " [-0.01590873 -0.45071761]\n",
      " [ 0.59657735  0.46599617]\n",
      " [ 0.70793846  0.46599617]\n",
      " [ 0.37385514 -1.13825295]\n",
      " [ 0.6522579   0.46599617]\n",
      " [ 0.48521625  1.26812073]\n",
      " [ 0.76361901  0.69517462]\n",
      " [ 0.37385514  0.1222285 ]\n",
      " [-1.24088089 -1.25284217]\n",
      " [ 0.70793846 -0.10694994]\n",
      " [ 0.20681348 -0.33612839]\n",
      " [-0.12726983 -0.33612839]\n",
      " [ 0.09545238 -0.45071761]\n",
      " [ 0.42953569  0.23681773]\n",
      " [ 1.20906343  1.49729918]\n",
      " [-1.29656144 -0.67989605]\n",
      " [-1.51928365 -1.82578828]\n",
      " [ 0.81929956  0.5805854 ]\n",
      " [ 0.20681348 -0.22153916]\n",
      " [-1.18520034 -0.56530683]\n",
      " [-1.29656144 -0.22153916]\n",
      " [ 0.59657735  1.15353151]\n",
      " [-1.29656144 -1.48202061]\n",
      " [ 0.70793846  0.00763928]\n",
      " [-0.46135315 -0.9090745 ]\n",
      " [-1.35224199 -1.48202061]\n",
      " [ 0.37385514  0.35140695]\n",
      " [ 1.26474398  1.49729918]\n",
      " [ 0.20681348 -0.22153916]\n",
      " [-1.35224199 -1.25284217]\n",
      " [ 1.15338288  1.38270995]\n",
      " [ 1.04202177  1.15353151]\n",
      " [ 1.09770233  0.69517462]\n",
      " [ 0.98634122  0.5805854 ]\n",
      " [-1.24088089 -0.9090745 ]\n",
      " [-1.24088089 -1.25284217]\n",
      " [ 0.70793846  0.69517462]\n",
      " [ 1.04202177  0.92435306]\n",
      " [-1.40792255 -1.59660984]\n",
      " [ 0.87498011  0.35140695]\n",
      " [-1.35224199 -1.13825295]\n",
      " [ 0.6522579  -0.22153916]\n",
      " [ 0.87498011  1.15353151]\n",
      " [-1.40792255 -1.71119906]\n",
      " [-1.35224199 -1.02366372]\n",
      " [ 1.09770233  1.49729918]\n",
      " [-1.35224199 -0.9090745 ]\n",
      " [-1.40792255 -1.71119906]\n",
      " [-1.18520034 -0.56530683]\n",
      " [ 0.09545238 -0.45071761]\n",
      " [ 1.15338288  1.03894229]\n",
      " [ 1.54314675  1.95565607]\n",
      " [-1.35224199 -0.9090745 ]\n",
      " [-1.29656144 -1.13825295]\n",
      " [-1.35224199 -0.79448528]\n",
      " [ 0.37385514 -0.22153916]\n",
      " [ 0.31817459  0.80976384]\n",
      " [-1.4636031  -1.02366372]\n",
      " [-1.18520034 -0.9090745 ]\n",
      " [ 0.26249403  0.5805854 ]\n",
      " [-1.29656144 -0.56530683]\n",
      " [ 1.71018841  2.07024529]\n",
      " [-0.29431149 -1.13825295]\n",
      " [ 1.43178564  2.29942374]\n",
      " [ 0.31817459  0.92435306]\n",
      " [-1.29656144 -0.79448528]\n",
      " [ 0.5408968   0.1222285 ]\n",
      " [-1.4636031  -0.10694994]\n",
      " [ 1.5988273   2.07024529]\n",
      " [-1.29656144 -0.9090745 ]\n",
      " [-1.24088089 -1.36743139]\n",
      " [ 1.26474398  1.72647762]\n",
      " [-1.35224199 -1.02366372]\n",
      " [ 0.98634122  0.46599617]\n",
      " [ 0.15113293 -0.22153916]\n",
      " [ 0.03977182 -0.10694994]\n",
      " [-0.18295039 -0.22153916]\n",
      " [ 0.81929956  0.5805854 ]\n",
      " [ 0.76361901  0.92435306]\n",
      " [ 0.59657735  0.46599617]\n",
      " [ 0.6522579   0.92435306]\n",
      " [-1.24088089 -1.02366372]\n",
      " [-0.07158928 -0.45071761]\n",
      " [ 0.98634122  0.92435306]\n",
      " [ 0.70793846 -0.10694994]\n",
      " [-1.29656144 -0.9090745 ]\n",
      " [ 0.42953569  0.80976384]\n",
      " [ 0.15113293 -0.33612839]\n",
      " [ 0.5408968   0.00763928]\n",
      " [ 0.31817459  0.46599617]\n",
      " [-1.40792255 -0.45071761]\n",
      " [-1.29656144 -0.9090745 ]\n",
      " [-1.29656144 -1.13825295]\n",
      " [ 0.98634122  0.46599617]\n",
      " [ 0.15113293 -0.10694994]\n",
      " [ 1.5988273   2.07024529]\n",
      " [-1.35224199 -1.48202061]\n",
      " [ 0.70793846 -0.10694994]\n",
      " [ 0.09545238  0.1222285 ]\n",
      " [-1.35224199 -0.45071761]\n",
      " [ 1.37610509  1.6118884 ]\n",
      " [-1.29656144 -1.02366372]\n",
      " [ 1.20906343  0.46599617]\n",
      " [-1.40792255 -1.02366372]\n",
      " [ 0.48521625  0.92435306]\n",
      " [ 0.5408968   1.03894229]\n",
      " [ 0.09545238  0.23681773]\n",
      " [ 0.98634122  0.23681773]\n",
      " [ 0.37385514  0.5805854 ]\n",
      " [ 0.48521625  0.23681773]\n",
      " [ 0.42953569  0.69517462]\n",
      " [ 0.48521625  0.23681773]\n",
      " [-1.29656144 -1.13825295]\n",
      " [ 0.37385514  0.1222285 ]\n",
      " [ 0.31817459 -0.45071761]\n",
      " [-1.35224199 -1.25284217]\n",
      " [-1.40792255 -0.56530683]\n",
      " [ 0.59657735 -0.33612839]\n",
      " [ 0.37385514 -0.33612839]\n",
      " [-1.07383923 -1.25284217]\n",
      " [-1.35224199 -1.71119906]\n",
      " [ 0.5408968   0.35140695]\n",
      " [-1.57496421 -1.48202061]\n",
      " [-1.07383923 -0.9090745 ]\n",
      " [ 0.26249403  0.35140695]\n",
      " [-0.29431149 -1.02366372]\n",
      " [-1.24088089 -1.02366372]\n",
      " [ 0.93066067  0.5805854 ]\n",
      " [ 0.37385514 -0.56530683]\n",
      " [-1.29656144 -0.79448528]\n",
      " [ 0.59657735  0.23681773]\n",
      " [ 0.98634122  0.5805854 ]\n",
      " [ 0.03977182 -0.79448528]\n",
      " [-1.18520034 -0.22153916]\n",
      " [ 0.70793846  0.1222285 ]\n",
      " [ 0.20681348  0.00763928]\n",
      " [ 0.09545238 -0.10694994]\n",
      " [ 0.93066067  1.03894229]\n",
      " [-1.40792255 -1.36743139]\n",
      " [ 0.70793846  1.15353151]\n",
      " [-1.24088089 -1.02366372]\n",
      " [-1.29656144 -0.56530683]]\n",
      "[1 2 2 2 2 1 2 1 1 2 2 2 2 1 2 1 0 2 1 1 1 1 2 0 0 2 1 0 0 1 0 2 1 0 1 2 1\n",
      " 0 2 2 2 2 0 0 2 2 0 2 0 2 2 0 0 2 0 0 0 1 2 2 0 0 0 1 1 0 0 1 0 2 1 2 1 0\n",
      " 2 0 2 0 0 2 0 2 1 1 1 2 2 1 1 0 1 2 2 0 1 1 1 1 0 0 0 2 1 2 0 2 1 0 2 0 2\n",
      " 0 1 1 1 2 1 1 1 1 0 1 1 0 0 2 1 0 0 2 0 0 1 1 0 2 1 0 2 2 1 0 1 1 1 2 0 2\n",
      " 0 0]\n"
     ]
    }
   ],
   "source": [
    "# Combine the scaled training and testing, they are only used for visualization.\n",
    "\n",
    "# np.vstack 沿着垂直方向將矩陣堆疊起来 (將 x_train_std 和 x_test_std 垂直疊起來)\n",
    "x_combined_std = np.vstack((x_train_std, x_test_std))\n",
    "print(x_combined_std)\n",
    "\n",
    "# np.hstack 沿着水平方向將數組堆疊起来 (將 y_train 和 y_test 水平疊起來)\n",
    "# print(y_train)\n",
    "# print(y_test)\n",
    "y_combined = np.hstack((y_train, y_test))\n",
    "print(y_combined)"
   ]
  },
  {
   "cell_type": "code",
   "execution_count": 22,
   "id": "60251adf",
   "metadata": {},
   "outputs": [],
   "source": [
    "import matplotlib.pyplot as plt\n",
    "from matplotlib.colors import ListedColormap\n",
    "\n",
    "def plot_data(x, y, labels, input_features, classifier=None, resolution=0.02):\n",
    "    # Setup marker generator and color map\n",
    "    colors = (\n",
    "        \"green\",\n",
    "        \"red\",\n",
    "        \"lightgreen\",\n",
    "    )\n",
    "    markers = (\n",
    "        \"x\",\n",
    "        \"s\",\n",
    "        \"o\",\n",
    "    )\n",
    "    # np.unique(y)->找出y陣列中不重複的值，形成一維陣列 https://blog.csdn.net/u012193416/article/details/79672729\n",
    "    # ListedColormap https://steam.oxxostudio.tw/category/python/example/matplotlib-colorbar.html\n",
    "    cmap = ListedColormap(colors[:len(np.unique(y))])  \n",
    "\n",
    "    # Plot the decision surface if classifier exists.\n",
    "    if classifier is not None:\n",
    "        \n",
    "        x1_min, x1_max = x[:, 0].min() - 1, x[:, 0].max() + 1\n",
    "        # print(x1_min,x1_max,x[:, 0].min(),x[:, 0].max())\n",
    "        x2_min, x2_max = x[:, 1].min() - 1, x[:, 1].max() + 1\n",
    "        # print(x2_min,x2_max)\n",
    "        # np.meshgrid https://wangyeming.github.io/2018/11/12/numpy-meshgrid/\n",
    "        xx1, xx2 = np.meshgrid(\n",
    "            np.arange(x1_min, x1_max, resolution),\n",
    "            np.arange(x2_min, x2_max, resolution),\n",
    "        )\n",
    "        z = classifier.predict(np.array([xx1.ravel(), xx2.ravel()]).T) # T 轉置\n",
    "        z = z.reshape(xx1.shape)\n",
    "        plt.contourf(xx1, xx2, z, alpha=0.4, cmap=cmap) # 畫等高線圖\n",
    "        plt.xlim(xx1.min(), xx1.max()) # x軸的值從xx1.min()到xx1.max()\n",
    "        plt.ylim(xx2.min(), xx2.max()) # y軸的值從xx2.min()到xx2.max()\n",
    "\n",
    "    # plot class samples\n",
    "    for idx, cl in enumerate(np.unique(y)):\n",
    "        # print(y == cl)\n",
    "        # print(x[y == cl, 0])\n",
    "        # print(x[y == cl, 1])\n",
    "        plt.scatter(\n",
    "            x=x[y == cl, 0],\n",
    "            y=x[y == cl, 1],\n",
    "            alpha=0.8,\n",
    "            color=cmap(idx),\n",
    "            marker=markers[idx],\n",
    "            label=labels[cl],\n",
    "        )\n",
    "\n",
    "    plt.xlabel(input_features[0] + \"[standardalized]\")\n",
    "    plt.ylabel(input_features[1] + \"[standardalized]\")\n",
    "    plt.legend(loc=\"upper left\")\n",
    "    plt.tight_layout()\n",
    "\n",
    "    plt.show()"
   ]
  },
  {
   "cell_type": "code",
   "execution_count": 10,
   "id": "c0a06c75",
   "metadata": {},
   "outputs": [
    {
     "data": {
      "image/png": "[encoded data removed]",
      "text/plain": [
       "<Figure size 432x288 with 1 Axes>"
      ]
     },
     "metadata": {
      "needs_background": "light"
     },
     "output_type": "display_data"
    }
   ],
   "source": [
    "plot_data(x_combined_std, y_combined, labels, input_features)"
   ]
  },
  {
   "cell_type": "code",
   "execution_count": 78,
   "id": "38dfe6a5",
   "metadata": {},
   "outputs": [
    {
     "name": "stderr",
     "output_type": "stream",
     "text": [
      "C:\\Users\\yvonn\\anaconda3\\lib\\site-packages\\sklearn\\linear_model\\_sag.py:352: ConvergenceWarning: The max_iter was reached which means the coef_ did not converge\n",
      "  warnings.warn(\n"
     ]
    },
    {
     "data": {
      "text/plain": [
       "LogisticRegression(C=1000.0, multi_class='multinomial', random_state=0,\n",
       "                   solver='sag')"
      ]
     },
     "execution_count": 78,
     "metadata": {},
     "output_type": "execute_result"
    }
   ],
   "source": [
    "from sklearn.linear_model import LogisticRegression\n",
    "\n",
    "# Create a classifier by using Logistic Regression.\n",
    "classifier = LogisticRegression(\n",
    "    multi_class=\"multinomial\",\n",
    "    solver=\"sag\",\n",
    "    C=1000.0,\n",
    "    random_state=0,\n",
    ")\n",
    "# Train the classifier.\n",
    "y_train = np.array(y_train, dtype = np.int64)\n",
    "\n",
    "classifier.fit(x_train_std, y_train)"
   ]
  },
  {
   "cell_type": "code",
   "execution_count": 47,
   "id": "da126862",
   "metadata": {},
   "outputs": [
    {
     "name": "stdout",
     "output_type": "stream",
     "text": [
      "[[6.82165476e-10 6.87401348e-03 9.93125986e-01]\n",
      " [4.30761647e-05 9.99891315e-01 6.56087314e-05]\n",
      " [9.97381291e-01 2.61870933e-03 2.04894674e-20]]\n",
      "[2 1 0]\n"
     ]
    }
   ],
   "source": [
    "# Predict the probabilities for the first three testing examples.\n",
    "probabilities = classifier.predict_proba(x_test_std[:3,])\n",
    "print(probabilities)\n",
    "\n",
    "# Predict the labels for the first three testing examples.\n",
    "predictions = classifier.predict(x_test_std[:3,])\n",
    "print(predictions)\n"
   ]
  },
  {
   "cell_type": "code",
   "execution_count": 48,
   "id": "f4c4964b",
   "metadata": {},
   "outputs": [
    {
     "data": {
      "image/png": "[encoded data removed]",
      "text/plain": [
       "<Figure size 432x288 with 1 Axes>"
      ]
     },
     "metadata": {
      "needs_background": "light"
     },
     "output_type": "display_data"
    }
   ],
   "source": [
    "plot_data(x_combined_std, y_combined, labels, input_features, classifier=classifier)"
   ]
  },
  {
   "cell_type": "code",
   "execution_count": 49,
   "id": "745cb6f1",
   "metadata": {},
   "outputs": [
    {
     "name": "stdout",
     "output_type": "stream",
     "text": [
      "[2 1 0 2 0 2 0 1 1 1 2 1 1 1 1 0 1 1 0 0 2 1 0 0 1 0 0 1 1 0 2 1 0 2 2 1 0\n",
      " 2 1 1 2 0 1 0 0]\n",
      "[2 1 0 2 0 2 0 1 1 1 2 1 1 1 1 0 1 1 0 0 2 1 0 0 2 0 0 1 1 0 2 1 0 2 2 1 0\n",
      " 1 1 1 2 0 2 0 0]\n"
     ]
    }
   ],
   "source": [
    "y_pred = classifier.predict(x_test_std)\n",
    "print(y_pred)\n",
    "print(y_test)"
   ]
  },
  {
   "cell_type": "code",
   "execution_count": 50,
   "id": "6616d0e2",
   "metadata": {},
   "outputs": [],
   "source": [
    "def plot_confusion_matrix(conf_mat):\n",
    "    plt.matshow(conf_mat, cmap=plt.cm.Blues, alpha=0.3)\n",
    "\n",
    "    for idx_true in range(conf_mat.shape[0]):\n",
    "        for idx_pred in range(conf_mat.shape[0]):\n",
    "            plt.text(\n",
    "                x=idx_pred,\n",
    "                y=idx_true,\n",
    "                s=conf_mat[idx_true, idx_pred],\n",
    "                va=\"center\",\n",
    "                ha=\"center\",\n",
    "            )\n",
    "\n",
    "    plt.xlabel(\"Predicted Label\")\n",
    "    plt.ylabel(\"Actual Label\")\n",
    "\n",
    "    plt.show() "
   ]
  },
  {
   "cell_type": "code",
   "execution_count": 61,
   "id": "7ab5f026",
   "metadata": {},
   "outputs": [
    {
     "name": "stdout",
     "output_type": "stream",
     "text": [
      "16\n"
     ]
    },
    {
     "data": {
      "image/png": "[encoded data removed]",
      "text/plain": [
       "<Figure size 288x288 with 1 Axes>"
      ]
     },
     "metadata": {
      "needs_background": "light"
     },
     "output_type": "display_data"
    }
   ],
   "source": [
    "from sklearn.metrics import confusion_matrix\n",
    "\n",
    "# Construct the confusion matrix.\n",
    "y_test = np.array(y_test, dtype = np.int64)\n",
    "conf_mat = confusion_matrix(y_true=y_test, y_pred=y_pred)\n",
    "print(conf_mat)\n",
    "\n",
    "# Visualize the confusion matrix.\n",
    "plot_confusion_matrix(conf_mat)"
   ]
  },
  {
   "cell_type": "code",
   "execution_count": 77,
   "id": "7d36fafb",
   "metadata": {},
   "outputs": [
    {
     "name": "stdout",
     "output_type": "stream",
     "text": [
      "[2 1 0 2 0 2 0 1 1 1 2 1 1 1 1 0 1 1 0 0 2 1 0 0 1 0 0 1 1 0 2 1 0 2 2 1 0\n",
      " 2 1 1 2 0 1 0 0]\n",
      "[2 1 0 2 0 2 0 1 1 1 2 1 1 1 1 0 1 1 0 0 2 1 0 0 2 0 0 1 1 0 2 1 0 2 2 1 0\n",
      " 1 1 1 2 0 2 0 0]\n",
      "Macro_Precision = 0.9315789473684211\n",
      "virgin_only_precision = 0.9\n",
      "Macro_Recall = 0.9208754208754208\n",
      "Macro_F1 Score = 0.9253539253539254\n"
     ]
    }
   ],
   "source": [
    "from sklearn.metrics import precision_score\n",
    "from sklearn.metrics import recall_score\n",
    "from sklearn.metrics import f1_score\n",
    "\n",
    "# Calculate precision, recall and f1 score.\n",
    "Macro_precision = precision_score(y_true=y_test, y_pred=y_pred ,average = 'macro')\n",
    "virgin_only_precision = precision_score(y_true=y_test, y_pred=y_pred ,average = None)\n",
    "Macro_recall = recall_score(y_true=y_test, y_pred=y_pred,average = 'macro')\n",
    "Macro_f1 = f1_score(y_true=y_test, y_pred=y_pred,average = 'macro')\n",
    "\n",
    "print(\"Macro_Precision = {}\".format(Macro_precision))\n",
    "print(\"virgin_only_precision = {}\".format(virgin_only_precision[2]))\n",
    "print(\"Macro_Recall = {}\".format(Macro_recall))\n",
    "print(\"Macro_F1 Score = {}\".format(Macro_f1))"
   ]
  },
  {
   "cell_type": "code",
   "execution_count": null,
   "id": "2baeb339",
   "metadata": {},
   "outputs": [],
   "source": []
  }
 ],
 "metadata": {
  "kernelspec": {
   "display_name": "Python 3 (ipykernel)",
   "language": "python",
   "name": "python3"
  },
  "language_info": {
   "codemirror_mode": {
    "name": "ipython",
    "version": 3
   },
   "file_extension": ".py",
   "mimetype": "text/x-python",
   "name": "python",
   "nbconvert_exporter": "python",
   "pygments_lexer": "ipython3",
   "version": "3.9.12"
  }
 },
 "nbformat": 4,
 "nbformat_minor": 5
}
